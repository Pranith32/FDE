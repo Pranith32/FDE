{
 "cells": [
  {
   "cell_type": "code",
   "execution_count": 0,
   "metadata": {
    "application/vnd.databricks.v1+cell": {
     "cellMetadata": {},
     "inputWidgets": {},
     "nuid": "9de027d2-e497-41fa-afba-e986fbf03468",
     "showTitle": false,
     "tableResultSettingsMap": {},
     "title": ""
    }
   },
   "outputs": [],
   "source": [
    "from pyspark.sql.functions import col, to_date\n",
    "\n",
    "# Load raw table\n",
    "df_raw = spark.table(\"healthcare_orders\")\n",
    "\n",
    "# Clean and transform data\n",
    "df_cleaned = (\n",
    "    df_raw.withColumn(\"order_date\", to_date(col(\"order_date\"), \"yyyy-MM-dd\"))\n",
    "          .withColumn(\"total_value\", col(\"quantity\") * col(\"price\"))\n",
    ")\n",
    "\n",
    "# Save as a managed Silver table\n",
    "df_cleaned.createOrReplaceTempView(\"tmp_healthcare_orders_cleaned\")\n",
    "\n",
    "spark.sql(\"\"\"\n",
    "    CREATE OR REPLACE TABLE silver_healthcare_orders AS\n",
    "    SELECT * \n",
    "    FROM tmp_healthcare_orders_cleaned\n",
    "\"\"\")"
   ]
  }
 ],
 "metadata": {
  "application/vnd.databricks.v1+notebook": {
   "computePreferences": {
    "hardware": {
     "accelerator": null,
     "gpuPoolId": null,
     "memory": null
    }
   },
   "dashboards": [],
   "environmentMetadata": {
    "base_environment": "",
    "environment_version": "3"
   },
   "inputWidgetPreferences": null,
   "language": "python",
   "notebookMetadata": {
    "pythonIndentUnit": 4
   },
   "notebookName": "Task-1_Healthcare_Orders_Data Ingestion",
   "widgets": {}
  },
  "language_info": {
   "name": "python"
  }
 },
 "nbformat": 4,
 "nbformat_minor": 0
}