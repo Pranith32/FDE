{
 "cells": [
  {
   "cell_type": "code",
   "execution_count": 0,
   "metadata": {
    "application/vnd.databricks.v1+cell": {
     "cellMetadata": {},
     "inputWidgets": {},
     "nuid": "ebb1b5e7-e249-462d-a3cc-fa9723d0e49b",
     "showTitle": false,
     "tableResultSettingsMap": {},
     "title": ""
    }
   },
   "outputs": [],
   "source": [
    "from pyspark.sql.functions import sum as spark_sum\n",
    "\n",
    "# Load cleaned Silver table\n",
    "df_cleaned = spark.table(\"silver_healthcare_orders\")\n",
    "\n",
    "# ==========================\n",
    "# Revenue by product category (Gold layer)\n",
    "# ==========================\n",
    "df_category_sales = (\n",
    "    df_cleaned.groupBy(\"service_category\")\n",
    "              .agg(spark_sum(\"total_value\").alias(\"total_revenue\"))\n",
    ")\n",
    "\n",
    "# Save as Gold table\n",
    "df_category_sales.createOrReplaceTempView(\"tmp_service_category_sales\")\n",
    "\n",
    "spark.sql(\"\"\"\n",
    "    CREATE OR REPLACE TABLE gold_healthcare_service_category_sales AS\n",
    "    SELECT * FROM tmp_service_category_sales\n",
    "\"\"\")\n",
    "\n",
    "# ==========================\n",
    "# Daily revenue (Gold layer)\n",
    "# ==========================\n",
    "df_daily_sales = (\n",
    "    df_cleaned.groupBy(\"order_date\")\n",
    "              .agg(spark_sum(\"total_value\").alias(\"daily_revenue\"))\n",
    ")\n",
    "\n",
    "# Save as Gold table\n",
    "df_daily_sales.createOrReplaceTempView(\"tmp_healthcare_daily_sales\")\n",
    "\n",
    "spark.sql(\"\"\"\n",
    "    CREATE OR REPLACE TABLE gold_healthcare_daily_sales AS\n",
    "    SELECT * FROM tmp_healthcare_daily_sales\n",
    "\"\"\")\n"
   ]
  }
 ],
 "metadata": {
  "application/vnd.databricks.v1+notebook": {
   "computePreferences": null,
   "dashboards": [],
   "environmentMetadata": {
    "base_environment": "",
    "environment_version": "3"
   },
   "inputWidgetPreferences": null,
   "language": "python",
   "notebookMetadata": {
    "pythonIndentUnit": 4
   },
   "notebookName": "Task-2_Data Aggregation_Healthcare",
   "widgets": {}
  },
  "language_info": {
   "name": "python"
  }
 },
 "nbformat": 4,
 "nbformat_minor": 0
}